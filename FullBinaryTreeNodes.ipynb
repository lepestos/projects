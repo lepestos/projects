{
 "cells": [
  {
   "cell_type": "code",
   "execution_count": 4,
   "metadata": {},
   "outputs": [
    {
     "name": "stdout",
     "output_type": "stream",
     "text": [
      "[8,4,12,2,6,10,14,1,3,5,7,9,11,13,15]"
     ]
    }
   ],
   "source": [
    "n = 3\n",
    "lst = []\n",
    "\n",
    "a = 2**n\n",
    "lst.append(a)\n",
    "limit = 2 ** (n+1)\n",
    "while a > 1:\n",
    "    x = a//2\n",
    "    while x < limit:\n",
    "        lst.append(x)\n",
    "        x += a\n",
    "    \n",
    "    a = a//2\n",
    "print(\"[\" ,end =\"\")\n",
    "for i in lst:\n",
    "    if i != lst[0]:\n",
    "        print(\",\",end = \"\")\n",
    "    print((i),end = \"\")\n",
    "print(\"]\" ,end =\"\")"
   ]
  },
  {
   "cell_type": "code",
   "execution_count": null,
   "metadata": {},
   "outputs": [],
   "source": []
  }
 ],
 "metadata": {
  "kernelspec": {
   "display_name": "Python 3",
   "language": "python",
   "name": "python3"
  },
  "language_info": {
   "codemirror_mode": {
    "name": "ipython",
    "version": 3
   },
   "file_extension": ".py",
   "mimetype": "text/x-python",
   "name": "python",
   "nbconvert_exporter": "python",
   "pygments_lexer": "ipython3",
   "version": "3.7.4"
  }
 },
 "nbformat": 4,
 "nbformat_minor": 4
}
