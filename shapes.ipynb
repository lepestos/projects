{
 "cells": [
  {
   "cell_type": "code",
   "execution_count": 66,
   "metadata": {},
   "outputs": [
    {
     "name": "stdout",
     "output_type": "stream",
     "text": [
      "(240, 28)\n"
     ]
    },
    {
     "data": {
      "text/plain": [
       "RandomForestClassifier(random_state=42)"
      ]
     },
     "execution_count": 66,
     "metadata": {},
     "output_type": "execute_result"
    }
   ],
   "source": [
    "import numpy as np\n",
    "import pandas as pd\n",
    "from matplotlib.image import imread\n",
    "import os\n",
    "\n",
    "from sklearn.model_selection import train_test_split\n",
    "from sklearn.linear_model import SGDClassifier\n",
    "from sklearn.ensemble import RandomForestClassifier\n",
    "\n",
    "data1 = [(1 - imread(os.path.join('shapes','circles',f)))[:,0,0].flatten() for f in os.listdir(os.path.join('shapes','circles'))]\n",
    "data2 = [(1 - imread(os.path.join('shapes','circles',f)))[:,0,0].flatten() for f in os.listdir(os.path.join('shapes','squares'))]\n",
    "data3 = [(1 - imread(os.path.join('shapes','circles',f)))[:,0,0].flatten() for f in os.listdir(os.path.join('shapes','triangles'))]\n",
    "\n",
    "df1 = pd.DataFrame([data1],index=['image'],columns=np.arange(0,100)).T\n",
    "df1['label'] = 0\n",
    "df2 = pd.DataFrame([data2],index=['image'],columns=np.arange(100,200)).T\n",
    "df2['label'] = 1\n",
    "df3 = pd.DataFrame([data3],index=['image'],columns=np.arange(200,300)).T\n",
    "df3['label'] = 2\n",
    "\n",
    "df = pd.concat([df1,df2,df3])\n",
    "df = df.sample(frac = 1)\n",
    "\n",
    "train_set, test_set = train_test_split(df, test_size=0.2, random_state=42)\n",
    "\n",
    "#sgd_clf = SGDClassifier(random_state=42)\n",
    "forest_clf = RandomForestClassifier(random_state=42)\n",
    "X = np.stack(train_set['image'].values)\n",
    "y = np.stack(train_set['label'].values)\n",
    "print(X.shape)\n",
    "#sgd_clf.fit(X,y)\n",
    "forest_clf.fit(X,y)"
   ]
  },
  {
   "cell_type": "code",
   "execution_count": 67,
   "metadata": {},
   "outputs": [
    {
     "data": {
      "text/plain": [
       "array([0.3375, 0.3375, 0.35  ])"
      ]
     },
     "execution_count": 67,
     "metadata": {},
     "output_type": "execute_result"
    }
   ],
   "source": [
    "from sklearn.model_selection import cross_val_score\n",
    "#cross_val_score(sgd_clf, X, y, cv=3, scoring=\"accuracy\")\n",
    "cross_val_score(forest_clf, X, y, cv=3, scoring=\"accuracy\")"
   ]
  },
  {
   "cell_type": "code",
   "execution_count": null,
   "metadata": {},
   "outputs": [],
   "source": []
  }
 ],
 "metadata": {
  "kernelspec": {
   "display_name": "Python 3",
   "language": "python",
   "name": "python3"
  },
  "language_info": {
   "codemirror_mode": {
    "name": "ipython",
    "version": 3
   },
   "file_extension": ".py",
   "mimetype": "text/x-python",
   "name": "python",
   "nbconvert_exporter": "python",
   "pygments_lexer": "ipython3",
   "version": "3.7.4"
  }
 },
 "nbformat": 4,
 "nbformat_minor": 4
}
