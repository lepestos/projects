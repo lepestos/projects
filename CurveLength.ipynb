{
 "cells": [
  {
   "cell_type": "code",
   "execution_count": 22,
   "metadata": {},
   "outputs": [
    {
     "name": "stdout",
     "output_type": "stream",
     "text": [
      "0.8813735870098225\n"
     ]
    }
   ],
   "source": [
    "from math import cos\n",
    "from math import sin\n",
    "from math import log\n",
    "def Function(x):\n",
    "    return log(sin(x)+cos(x))\n",
    "    #return (1-x**2)**(1/2)\n",
    "\n",
    "\n",
    "def Length(a,b):\n",
    "    n = 100000\n",
    "    l = 0\n",
    "    x1 = 0\n",
    "    x2 = 0\n",
    "    y1 = 0\n",
    "    y2 = 0\n",
    "    for i in range(n):\n",
    "        x1 = a + i*(b-a)/n\n",
    "        x2 = a + (i+1)*(b-a)/n\n",
    "        y1 = Function(x1)\n",
    "        y2 = Function(x2)\n",
    "        l += ((x2-x1)**2+(y2-y1)**2)**(1/2)\n",
    "    return l\n",
    "\n",
    "print(Length(0,0.78539816339))"
   ]
  },
  {
   "cell_type": "code",
   "execution_count": null,
   "metadata": {},
   "outputs": [],
   "source": []
  }
 ],
 "metadata": {
  "kernelspec": {
   "display_name": "Python 3",
   "language": "python",
   "name": "python3"
  },
  "language_info": {
   "codemirror_mode": {
    "name": "ipython",
    "version": 3
   },
   "file_extension": ".py",
   "mimetype": "text/x-python",
   "name": "python",
   "nbconvert_exporter": "python",
   "pygments_lexer": "ipython3",
   "version": "3.7.4"
  }
 },
 "nbformat": 4,
 "nbformat_minor": 4
}
