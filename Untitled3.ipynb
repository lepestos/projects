{
 "cells": [
  {
   "cell_type": "code",
   "execution_count": 11,
   "metadata": {},
   "outputs": [],
   "source": [
    "from PIL import Image, ImageDraw, ImageFont\n",
    "\n",
    "\n",
    "r = 30\n",
    "sizeX = 1050\n",
    "sizeY = 650\n",
    "img = Image.new('RGB', (sizeX, sizeY), color = (255,255,255))\n",
    "d = ImageDraw.Draw(img)\n",
    "\n",
    "#d.line([(img.size[0]/3, -20) , img.size], width = 10, fill=(128,128,0))\n",
    "#d.text((40,40), \"Hello World\", fill=(0,0,0))\n",
    "\n",
    "f = ImageFont.truetype(\"arial.ttf\", 19*r//10)\n",
    "d.ellipse([(sizeX/2-r,sizeY/2-r),(sizeX/2+r,sizeY/2+r)], outline = (0,0,0),fill = (255,255,255), width = 1)\n",
    "d.text((sizeX/2-r/2,sizeY/2-r),\"2\", fill=(0,0,0), font = f)\n",
    "\n",
    "img.save('pil.png')"
   ]
  },
  {
   "cell_type": "code",
   "execution_count": 21,
   "metadata": {},
   "outputs": [
    {
     "name": "stdout",
     "output_type": "stream",
     "text": [
      "[2, 0, 2, 3, 2, 0, 2, 0, 2, 3]\n",
      "[2, 0, 2, 0, 2, 3, 2, 0, 2, 0]\n",
      "[]\n"
     ]
    }
   ],
   "source": [
    "lst1 = [2 if i%2 == 0 else(3 if i%3 == 0 else 0) for i in range(10)]\n",
    "lst2 = [2 if i%2 == 0 else(3 if i%3 == 0 else 0) for i in range(10,20)]\n",
    "lst3 = [i]\n",
    "print(lst1)\n",
    "print(lst2)\n",
    "print(lst3)"
   ]
  },
  {
   "cell_type": "code",
   "execution_count": 35,
   "metadata": {},
   "outputs": [
    {
     "name": "stdout",
     "output_type": "stream",
     "text": [
      "<generator object <genexpr> at 0x000002BC851AFD48>\n",
      "[1, 0, 1, 0, 1, 0, 1, 0, 1, 0, 1, 0, 1, 0, 1, 0, 1, 0, 1, 0]\n",
      "[1, 0, 0, 1, 0, 0, 1, 0, 0, 1, 0, 0, 1, 0, 0, 1, 0, 0, 1, 0]\n",
      "4\n"
     ]
    }
   ],
   "source": [
    "labels = [1 if i%2 == 0 else 0 for i in range(20)]\n",
    "predictions = [1 if i%3 == 0 else 0 for i in range(20)]\n",
    "correct_positive = sum([1 if (labels[i] == 1 and predictions[i]== 1) else 0 for i in range(20)])\n",
    "print((1 if (labels[i] == 1 and predictions[i]== 1) else 0 for i in range(20)))\n",
    "print(labels)\n",
    "print(predictions)\n",
    "print(correct_positive)"
   ]
  },
  {
   "cell_type": "code",
   "execution_count": 38,
   "metadata": {},
   "outputs": [
    {
     "name": "stdout",
     "output_type": "stream",
     "text": [
      "4\n"
     ]
    }
   ],
   "source": [
    "correct_positive = sum([labels[i] == 1 and predictions[i]== 1 for i in range(20)])\n",
    "print(correct_positive)\n"
   ]
  },
  {
   "cell_type": "code",
   "execution_count": 41,
   "metadata": {},
   "outputs": [
    {
     "name": "stdout",
     "output_type": "stream",
     "text": [
      "hi\n"
     ]
    }
   ],
   "source": [
    "dct = {(1,2):\"hi\",(3,2):\"hello\"}\n",
    "print(dct[(1,2)])"
   ]
  },
  {
   "cell_type": "code",
   "execution_count": 43,
   "metadata": {},
   "outputs": [
    {
     "name": "stdout",
     "output_type": "stream",
     "text": [
      "0 0\n"
     ]
    }
   ],
   "source": [
    "action = (0,0)\n",
    "pile, count = action\n",
    "print(pile,count)"
   ]
  },
  {
   "cell_type": "code",
   "execution_count": 2,
   "metadata": {},
   "outputs": [
    {
     "name": "stdout",
     "output_type": "stream",
     "text": [
      "[(1, 1)]\n"
     ]
    }
   ],
   "source": [
    "import random\n",
    "actions = {(0,0),(0,1),(0,2),(1,1)}\n",
    "action = random.sample(actions,1)\n",
    "print(action)"
   ]
  },
  {
   "cell_type": "code",
   "execution_count": 29,
   "metadata": {},
   "outputs": [
    {
     "ename": "error",
     "evalue": "OpenCV(4.4.0) C:\\Users\\appveyor\\AppData\\Local\\Temp\\1\\pip-req-build-52oirelq\\opencv\\modules\\highgui\\src\\window.cpp:376: error: (-215:Assertion failed) size.width>0 && size.height>0 in function 'cv::imshow'\n",
     "output_type": "error",
     "traceback": [
      "\u001b[1;31m---------------------------------------------------------------------------\u001b[0m",
      "\u001b[1;31merror\u001b[0m                                     Traceback (most recent call last)",
      "\u001b[1;32m<ipython-input-29-f64c360d396c>\u001b[0m in \u001b[0;36m<module>\u001b[1;34m\u001b[0m\n\u001b[0;32m      6\u001b[0m \u001b[1;33m\u001b[0m\u001b[0m\n\u001b[0;32m      7\u001b[0m \u001b[0ma\u001b[0m \u001b[1;33m=\u001b[0m \u001b[0mnp\u001b[0m\u001b[1;33m.\u001b[0m\u001b[0mndarray\u001b[0m\u001b[1;33m(\u001b[0m\u001b[0mimg\u001b[0m\u001b[1;33m)\u001b[0m\u001b[1;33m\u001b[0m\u001b[1;33m\u001b[0m\u001b[0m\n\u001b[1;32m----> 8\u001b[1;33m \u001b[0mcv2\u001b[0m\u001b[1;33m.\u001b[0m\u001b[0mimshow\u001b[0m\u001b[1;33m(\u001b[0m\u001b[1;34m'image'\u001b[0m\u001b[1;33m,\u001b[0m \u001b[0mimg\u001b[0m\u001b[1;33m)\u001b[0m\u001b[1;33m\u001b[0m\u001b[1;33m\u001b[0m\u001b[0m\n\u001b[0m\u001b[0;32m      9\u001b[0m \u001b[0ma\u001b[0m\u001b[1;33m\u001b[0m\u001b[1;33m\u001b[0m\u001b[0m\n",
      "\u001b[1;31merror\u001b[0m: OpenCV(4.4.0) C:\\Users\\appveyor\\AppData\\Local\\Temp\\1\\pip-req-build-52oirelq\\opencv\\modules\\highgui\\src\\window.cpp:376: error: (-215:Assertion failed) size.width>0 && size.height>0 in function 'cv::imshow'\n"
     ]
    }
   ],
   "source": [
    "import cv2\n",
    "import matplotlib.pyplot as plt\n",
    "import numpy as np\n",
    "%matplotlib inline\n",
    "img = cv2.imread('/ppmstuff/0/00000_0014.ppm')\n",
    "\n",
    "a = np.ndarray(img)\n",
    "cv2.imshow('image', img)\n",
    "a"
   ]
  },
  {
   "cell_type": "code",
   "execution_count": 33,
   "metadata": {},
   "outputs": [
    {
     "name": "stdout",
     "output_type": "stream",
     "text": [
      "[[137 149 102 ... 120 105  71]\n",
      " [171 130  90 ... 114 117  83]\n",
      " [143  84  90 ... 100 128  95]\n",
      " ...\n",
      " [177 176 177 ... 129 149 169]\n",
      " [184 187 184 ... 101 119 148]\n",
      " [188 188 189 ...  78  90 103]]\n"
     ]
    }
   ],
   "source": [
    "import cv2\n",
    "import numpy as np\n",
    "\n",
    "IMG_WIDTH = 30\n",
    "IMG_HEIGHT = 30\n",
    "NUM_CATEGORIES = 43\n",
    "\n",
    "path = 'ppmstuff\\\\0\\\\00000_00014.ppm'\n",
    "img = cv2.imread(path,0)\n",
    "\n",
    "#print(img)\n",
    "res = cv2.resize(img,(IMG_WIDTH, IMG_HEIGHT), interpolation = cv2.INTER_CUBIC)\n",
    "print(img)\n"
   ]
  },
  {
   "cell_type": "code",
   "execution_count": 6,
   "metadata": {},
   "outputs": [],
   "source": [
    "import os\n",
    "files = []\n",
    "for i in range(2):    \n",
    "    mypath = 'ppmstuff' + os.sep + str(i)\n",
    "    add_files = [f for f in os.listdir(mypath) if os.path.isfile(os.path.join(mypath, f))]\n",
    "    files.append(add_files)\n",
    "#print(files)"
   ]
  },
  {
   "cell_type": "code",
   "execution_count": 4,
   "metadata": {},
   "outputs": [
    {
     "name": "stdout",
     "output_type": "stream",
     "text": [
      "['hello', 'dis', 'works?', 'lol', 'ha,', '12d']\n"
     ]
    }
   ],
   "source": [
    "tokenized_list = [\"hello\",\"dis\", \"works?\", \"Lol\",\"ha,\",\"12D\",\";\"]\n",
    "tokenized_list = [x.lower() for x in tokenized_list]\n",
    "for element in  tokenized_list:\n",
    "    contains_character = False\n",
    "    for symbol in element:\n",
    "        if symbol in \"qwertyuiopasdfghjklzxcvbnm\":\n",
    "            contains_character = True\n",
    "        if contains_character:\n",
    "            break\n",
    "    if not contains_character:\n",
    "        tokenized_list.remove(element)\n",
    "print(tokenized_list)\n"
   ]
  },
  {
   "cell_type": "code",
   "execution_count": 19,
   "metadata": {},
   "outputs": [
    {
     "name": "stdout",
     "output_type": "stream",
     "text": [
      "['textfile1.txt', 'textfile2.txt']\n",
      "{'textfile1.txt': 'Here are a couple of words', 'textfile2.txt': 'Here is another couple of words'}\n"
     ]
    }
   ],
   "source": [
    "import os\n",
    "dct = {}\n",
    "directory = 'test'\n",
    "file_names = [f for f in os.listdir(directory) if os.path.isfile(os.path.join(directory, f))]\n",
    "for file in file_names:\n",
    "    f = open(os.path.join(directory,file), \"r\").read()\n",
    "    dct[file] = f"
   ]
  },
  {
   "cell_type": "code",
   "execution_count": 38,
   "metadata": {},
   "outputs": [
    {
     "name": "stdout",
     "output_type": "stream",
     "text": [
      "[('item7', 11), ('item4', 10), ('item0', 9)]\n",
      "['item7', 'item4', 'item0']\n"
     ]
    }
   ],
   "source": [
    "n = 3\n",
    "d = {\"item0\": 9, \"item1\": 3, \"item2\": 6, \"item3\": 2, \"item4\": 10, \"item5\": 1, \"item6\": 7, \"item7\": 11, \"item8\": 5}\n",
    "sorted_d = sorted(d.items(), key=lambda x: x[1], reverse = True)[0:n]\n",
    "result = [element[0] for element in sorted_d]\n",
    "print(sorted_d)\n",
    "print(result)"
   ]
  },
  {
   "cell_type": "code",
   "execution_count": 1,
   "metadata": {},
   "outputs": [
    {
     "name": "stdout",
     "output_type": "stream",
     "text": [
      "['hello', 'how', 'are', 'you', 'owo', 'owoeow', 'ejklwlrj', ';', 'we', 'pwerjowepr', 'wpoeirjpwejr']\n"
     ]
    }
   ],
   "source": [
    "import nltk\n",
    "document = \"\"\"hello\n",
    "    how\n",
    "    are\n",
    "    you\"\"\"\n",
    "document1 = \"owo owoeow ejklwlrj;we pwerjowepr wpoeirjpwejr\"\n",
    "tokenized_list = []\n",
    "for str in document.split(\"\\n\"):\n",
    "    tokenized_list.extend(nltk.word_tokenize(str))\n",
    "for str in document1.split(\"\\n\"):\n",
    "    tokenized_list.extend(nltk.word_tokenize(str))\n",
    "\n",
    "print(tokenized_list)"
   ]
  },
  {
   "cell_type": "code",
   "execution_count": null,
   "metadata": {},
   "outputs": [],
   "source": []
  }
 ],
 "metadata": {
  "kernelspec": {
   "display_name": "Python 3",
   "language": "python",
   "name": "python3"
  },
  "language_info": {
   "codemirror_mode": {
    "name": "ipython",
    "version": 3
   },
   "file_extension": ".py",
   "mimetype": "text/x-python",
   "name": "python",
   "nbconvert_exporter": "python",
   "pygments_lexer": "ipython3",
   "version": "3.7.4"
  }
 },
 "nbformat": 4,
 "nbformat_minor": 4
}
