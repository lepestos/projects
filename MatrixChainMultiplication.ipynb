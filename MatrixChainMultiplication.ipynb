{
 "cells": [
  {
   "cell_type": "code",
   "execution_count": 7,
   "metadata": {},
   "outputs": [
    {
     "name": "stdin",
     "output_type": "stream",
     "text": [
      "Dimensions:  1 2 3 2\n"
     ]
    },
    {
     "name": "stdout",
     "output_type": "stream",
     "text": [
      "12 multiplications\n",
      "(A₀A₁)A₂"
     ]
    }
   ],
   "source": [
    "import numpy as np\n",
    "\n",
    "\n",
    "def OptimalParenthesization(dimensions, K, M, k1, k2):\n",
    "    if k2 - k1 == 1:\n",
    "        mink = k2\n",
    "        minm = dimensions[k1]*dimensions[k2]*dimensions[k2+1]\n",
    "    else:\n",
    "        mink = 0\n",
    "        minm = 0\n",
    "        for k in range(k1+1,k2+1):\n",
    "            if k == k1+1:\n",
    "                mink = k\n",
    "                minm = dimensions[k1]*dimensions[k]*dimensions[k2+1] + M[k1+1,k2]\n",
    "            else:\n",
    "                m = dimensions[k1]*dimensions[k]*dimensions[k2+1] + M[k1,k-1] + M[k,k2]\n",
    "                if m < minm:\n",
    "                    mink = k\n",
    "                    minm = m\n",
    "    return [mink,minm]\n",
    "\n",
    "def PutParentheses(K,i,j,n):\n",
    "    SUB = str.maketrans(\"0123456789\", \"₀₁₂₃₄₅₆₇₈₉\")\n",
    "    if i == j:\n",
    "        print((\"A\"+str(i)).translate(SUB),end=\"\")\n",
    "    else:\n",
    "        if i!=0 or j!=n-1:\n",
    "            print(\"(\",end=\"\")\n",
    "        PutParentheses(K,i,K[i,j]-1,n)\n",
    "        PutParentheses(K,K[i,j],j,n)\n",
    "        if i!=0 or j!=n-1:\n",
    "            print(\")\",end=\"\")\n",
    "\n",
    "\n",
    "              \n",
    "dimensions = [int(i) for i in input(\"Dimensions: \").split(\" \")]\n",
    "n = len(dimensions) - 1\n",
    "K = np.full((n,n),0)\n",
    "M = np.full((n,n),0)\n",
    "\n",
    "\n",
    "\n",
    "for l in range(2,n+1):\n",
    "    for i in range(0,n+1-l):\n",
    "        j = i + l - 1\n",
    "        r = OptimalParenthesization(dimensions, K, M, i, j)\n",
    "        K[i,j] = r[0]\n",
    "        M[i,j] = r[1]\n",
    "print(str(M[0,n-1]) + \" multiplications\")\n",
    "PutParentheses(K,0,n-1,n)\n"
   ]
  },
  {
   "cell_type": "code",
   "execution_count": null,
   "metadata": {},
   "outputs": [],
   "source": []
  }
 ],
 "metadata": {
  "kernelspec": {
   "display_name": "Python 3",
   "language": "python",
   "name": "python3"
  },
  "language_info": {
   "codemirror_mode": {
    "name": "ipython",
    "version": 3
   },
   "file_extension": ".py",
   "mimetype": "text/x-python",
   "name": "python",
   "nbconvert_exporter": "python",
   "pygments_lexer": "ipython3",
   "version": "3.7.4"
  }
 },
 "nbformat": 4,
 "nbformat_minor": 4
}
