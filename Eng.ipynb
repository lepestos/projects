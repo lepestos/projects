{
 "cells": [
  {
   "cell_type": "code",
   "execution_count": 2,
   "metadata": {},
   "outputs": [
    {
     "name": "stdout",
     "output_type": "stream",
     "text": [
      "quitting...\n"
     ]
    }
   ],
   "source": [
    "import random as rnd\n",
    "import pygame\n",
    "\n",
    "class Word:\n",
    "    def __init__(self,surface,spelling,picture):\n",
    "        self.itsSurface = surface\n",
    "        self.itsSpelling = spelling\n",
    "        #self.itsPronunciation = pronunciation\n",
    "        self.itsPicture = picture\n",
    "    def drawFourPictures(self,lst,x,y,screen):\n",
    "        lst1 = []\n",
    "        lst1.append(self)\n",
    "        lst1.append(rnd.choice(lst))\n",
    "        lst1.append(rnd.choice(lst))\n",
    "        lst1.append(rnd.choice(lst))\n",
    "        screen.blit(lst1[0].itsSurface, [x, y])\n",
    "        screen.blit(lst1[1].itsSurface, [x+128, y])\n",
    "        screen.blit(lst1[2].itsSurface, [x, y+128])\n",
    "        screen.blit(lst1[3].itsSurface, [x+128, y+128])\n",
    "        \n",
    "    #def GenerateFourLinks(self,lst):\n",
    "        #lst1 = []\n",
    "        #lst1.append[self.itsPronunciation]\n",
    "        #lst1.append[rnd.choice(lst)]\n",
    "        #lst1.append[rnd.choice(lst)]\n",
    "        #lst1.append[rnd.choice(lst)]\n",
    "        #return lst1\n",
    "\n",
    "\n",
    "screenX = 1024\n",
    "screenY = 768\n",
    "screen_size = [screenX,screenY]\n",
    "screen = pygame.display.set_mode(screen_size)\n",
    "\n",
    "listOfSpellings = ['head','hair','eye','ear','nose','mouth','cheek','shoulder','hand','finger','leg']\n",
    "listOfPictures = []\n",
    "for w in listOfSpellings:\n",
    "    listOfPictures.append('Eng/'+ w +'.png')\n",
    "listOfWords = []\n",
    "\n",
    "#listOfCards = []\n",
    "#for i in range(len(listOfWords)):\n",
    "#    listOfCards.append([listOfWords[i],listOfPictures[i]])\n",
    "#for w in listOfCards:\n",
    "#    rec = pygame.image.load('redrectangle.png')\n",
    "\n",
    "\n",
    "listOfSurfaces = []\n",
    "background = pygame.image.load('Eng/background.png')\n",
    "background = pygame.transform.scale(background,(screenX,screenY))\n",
    "for w in listOfPictures:\n",
    "    s = pygame.image.load(w)\n",
    "    s = pygame.transform.scale(s,(128,128))\n",
    "    listOfSurfaces.append(s)\n",
    "    \n",
    "for i in range(len(listOfSpellings)):\n",
    "    listOfWords.append(Word(listOfSurfaces[i],listOfSpellings[i],listOfPictures[i]))\n",
    "\n",
    "\n",
    "\n",
    "keep_alive = True\n",
    "while keep_alive:\n",
    "    pygame.event.get()\n",
    "    keys = pygame.key.get_pressed()\n",
    "   \n",
    "    if keys[pygame.K_q] == True:\n",
    "        print('quitting...')\n",
    "        keep_alive = False\n",
    "    screen.blit(background, [0, 0])\n",
    "    \n",
    "    if keys[pygame.K_n] == True:\n",
    "        listOfWords[0].drawFourPictures(listOfWords,0,0,screen)\n",
    "    pygame.display.update()\n",
    "    \n",
    "        "
   ]
  },
  {
   "cell_type": "code",
   "execution_count": null,
   "metadata": {},
   "outputs": [],
   "source": []
  },
  {
   "cell_type": "code",
   "execution_count": null,
   "metadata": {},
   "outputs": [],
   "source": []
  }
 ],
 "metadata": {
  "kernelspec": {
   "display_name": "Python 3",
   "language": "python",
   "name": "python3"
  },
  "language_info": {
   "codemirror_mode": {
    "name": "ipython",
    "version": 3
   },
   "file_extension": ".py",
   "mimetype": "text/x-python",
   "name": "python",
   "nbconvert_exporter": "python",
   "pygments_lexer": "ipython3",
   "version": "3.7.4"
  }
 },
 "nbformat": 4,
 "nbformat_minor": 4
}
