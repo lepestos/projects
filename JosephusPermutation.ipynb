{
 "cells": [
  {
   "cell_type": "code",
   "execution_count": 21,
   "metadata": {},
   "outputs": [
    {
     "name": "stdin",
     "output_type": "stream",
     "text": [
      "Input n,m for (n,m)-Josephus permutation:  2000000 3\n"
     ]
    },
    {
     "name": "stdout",
     "output_type": "stream",
     "text": [
      "Done\n"
     ]
    }
   ],
   "source": [
    "class ListElement:\n",
    "    def __init__(self,k,l1,l2):\n",
    "        self.data = k\n",
    "        self.left = l1\n",
    "        self.right = l2\n",
    "\n",
    "class LinkedList:\n",
    "    def __init__(self,n):\n",
    "        self.head = ListElement(1,None,None)\n",
    "        L = self.head\n",
    "        for i in range(1,n):\n",
    "            L.right = ListElement(i+1,None,None)\n",
    "            L.right.left = L\n",
    "            L = L.right\n",
    "        L.right = self.head\n",
    "        L.right.left = L\n",
    "        \n",
    "    def LinkedPop(self,L):\n",
    "        L.left.right = L.right\n",
    "        L.right.left = L.left\n",
    "        s = L.data\n",
    "        del L\n",
    "        return s\n",
    "    \n",
    "    def LinkedPrint(self):\n",
    "        L = self.head\n",
    "        print(L.data,end = \" \")\n",
    "        L = L.right\n",
    "        while L != self.head:\n",
    "            print(L.data,end = \" \")\n",
    "            L = L.right\n",
    "        print()\n",
    "            \n",
    "            \n",
    "\n",
    "\n",
    "st = input(\"Input n,m for (n,m)-Josephus permutation: \")\n",
    "n,m = [int(i) for i in st.split(\" \")]\n",
    "#lst = [j for j in range(1,n+1)]\n",
    "#result = []\n",
    "#pointer = -1\n",
    "#l = n\n",
    "#while l>0:\n",
    " #   pointer += m\n",
    "  #  pointer %= l\n",
    "   # result.append(lst.pop(pointer))\n",
    "   # pointer -= 1\n",
    "   # l-=1\n",
    "    \n",
    "LL = LinkedList(n)\n",
    "\n",
    "l = n\n",
    "L = LL.head.left\n",
    "s = \"\"\n",
    "while l > 0:\n",
    "    for i in range(m-1):\n",
    "        L = L.right\n",
    "    s += str(LL.LinkedPop(L.right))\n",
    "    s += \" \"\n",
    "    l-=1\n",
    "#print(s)\n",
    "print(\"Done\")"
   ]
  },
  {
   "cell_type": "code",
   "execution_count": null,
   "metadata": {},
   "outputs": [],
   "source": []
  }
 ],
 "metadata": {
  "kernelspec": {
   "display_name": "Python 3",
   "language": "python",
   "name": "python3"
  },
  "language_info": {
   "codemirror_mode": {
    "name": "ipython",
    "version": 3
   },
   "file_extension": ".py",
   "mimetype": "text/x-python",
   "name": "python",
   "nbconvert_exporter": "python",
   "pygments_lexer": "ipython3",
   "version": "3.7.4"
  }
 },
 "nbformat": 4,
 "nbformat_minor": 4
}
