{
 "cells": [
  {
   "cell_type": "code",
   "execution_count": 1,
   "metadata": {},
   "outputs": [
    {
     "name": "stdin",
     "output_type": "stream",
     "text": [
      "Length of the initial rod:  1\n",
      "Cost of each cut:  2\n"
     ]
    },
    {
     "name": "stdout",
     "output_type": "stream",
     "text": [
      "[1]\n"
     ]
    }
   ],
   "source": [
    "def RodCutting(n,c,prices,lenghts):\n",
    "    CutsLst = [[],[1]]\n",
    "    ValueLst = [prices[0],prices[1]]\n",
    "    for i in range(2,n+1):\n",
    "        maxPrice = prices[i]\n",
    "        bestCut = [i]\n",
    "        for j in range(1,i):\n",
    "            if ValueLst[j] + ValueLst[i-j] - c> maxPrice:\n",
    "                maxPrice = ValueLst[j] + ValueLst[i-j] - c\n",
    "                bestCut = CutsLst[j] + CutsLst[i-j]\n",
    "        CutsLst.append(bestCut)\n",
    "        ValueLst.append(maxPrice)\n",
    "    return CutsLst[n]\n",
    "\n",
    "\n",
    "f = open(\"RodCutting.txt\", \"r\", encoding=\"utf-8\")\n",
    "st = f.read()\n",
    "lengthsstr = st.split(\"\\n\")[0]\n",
    "pricesstr = st.split(\"\\n\")[1]\n",
    "lengths = [int(i) for i in lengthsstr.split(\" \")]\n",
    "prices = [int(i) for i in pricesstr.split(\" \")]\n",
    "\n",
    "\n",
    "n = int(input(\"Length of the initial rod: \"))\n",
    "c = int(input(\"Cost of each cut: \"))\n",
    "\n",
    "result = RodCutting(n,c,prices,lengths)\n",
    "print(result)\n"
   ]
  },
  {
   "cell_type": "code",
   "execution_count": null,
   "metadata": {},
   "outputs": [],
   "source": []
  }
 ],
 "metadata": {
  "kernelspec": {
   "display_name": "Python 3",
   "language": "python",
   "name": "python3"
  },
  "language_info": {
   "codemirror_mode": {
    "name": "ipython",
    "version": 3
   },
   "file_extension": ".py",
   "mimetype": "text/x-python",
   "name": "python",
   "nbconvert_exporter": "python",
   "pygments_lexer": "ipython3",
   "version": "3.7.4"
  }
 },
 "nbformat": 4,
 "nbformat_minor": 4
}
