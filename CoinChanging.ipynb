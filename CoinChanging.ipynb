{
 "cells": [
  {
   "cell_type": "code",
   "execution_count": 3,
   "metadata": {},
   "outputs": [
    {
     "name": "stdin",
     "output_type": "stream",
     "text": [
      "n:  12\n"
     ]
    },
    {
     "name": "stdout",
     "output_type": "stream",
     "text": [
      "6 6 "
     ]
    }
   ],
   "source": [
    "def CC(n,exch):\n",
    "    s = 0\n",
    "    lst = []\n",
    "    for i in exch:\n",
    "        while s + i <= n:\n",
    "            lst.append(i)\n",
    "            s += i\n",
    "    return lst\n",
    "\n",
    "def DCC(n,exch):\n",
    "    lst = [[],[1]]\n",
    "    lvl = 0\n",
    "    lng = 0\n",
    "    lj = 0\n",
    "    for i in range(2,n+1):\n",
    "        lng = n + 1\n",
    "        lj = 0\n",
    "        for j in exch:\n",
    "            if i - j >= 0:\n",
    "                if 1 + len(lst[i-j]) < lng:\n",
    "                    lng = 1 + len(lst[i-j])\n",
    "                    lj = j\n",
    "        lst.append([lj]+lst[i-lj])\n",
    "    return lst[n]\n",
    "                    \n",
    "            \n",
    "        \n",
    "    \n",
    "    \n",
    "exch = [7,6,1]\n",
    "n = int(input(\"n: \"))\n",
    "ls = DCC(n,exch)\n",
    "for i in ls:\n",
    "    print(i,end=\" \")"
   ]
  },
  {
   "cell_type": "code",
   "execution_count": null,
   "metadata": {},
   "outputs": [],
   "source": []
  }
 ],
 "metadata": {
  "kernelspec": {
   "display_name": "Python 3",
   "language": "python",
   "name": "python3"
  },
  "language_info": {
   "codemirror_mode": {
    "name": "ipython",
    "version": 3
   },
   "file_extension": ".py",
   "mimetype": "text/x-python",
   "name": "python",
   "nbconvert_exporter": "python",
   "pygments_lexer": "ipython3",
   "version": "3.7.4"
  }
 },
 "nbformat": 4,
 "nbformat_minor": 4
}
