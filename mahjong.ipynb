{
 "cells": [
  {
   "cell_type": "code",
   "execution_count": 4,
   "metadata": {},
   "outputs": [
    {
     "name": "stdin",
     "output_type": "stream",
     "text": [
      "Initial standings:  -1704 1896 1050 -1242\n",
      "Player 1:  16 2\n",
      "Player 2:  12 2\n",
      "Player 3:  12 2\n",
      "Player 4:  34 4\n",
      "Winner:  4\n",
      "East:  4\n"
     ]
    },
    {
     "name": "stdout",
     "output_type": "stream",
     "text": [
      "-256 -280 -280 816 \n",
      "-1960 1616 770 -426 "
     ]
    }
   ],
   "source": [
    "init = []\n",
    "comb = []\n",
    "multiplicator = []\n",
    "s,m = 0, 0\n",
    "\n",
    "a = input(\"Initial standings: \").split(\" \")\n",
    "for i in range(4):\n",
    "    init.append(int(a[i]))\n",
    "\n",
    "for i in range(4):\n",
    "    st = \"Player \"  + str(i+1) + \": \"\n",
    "    s,m = input(st).split(\" \")\n",
    "    comb.append(int(s))\n",
    "    multiplicator.append(int(m))\n",
    "\n",
    "score = []\n",
    "for i in range(4):\n",
    "    score.append(comb[i]*multiplicator[i])\n",
    "w = int(input(\"Winner: \")) - 1\n",
    "result = []\n",
    "for i in range(4):\n",
    "    if w == i:\n",
    "        result.append(score[i]*3)\n",
    "    else:\n",
    "        result.append(2*score[i%4]-score[(i+1)%4]-score[(i+2)%4]-score[(i+3)%4])\n",
    "e = int(input(\"East: \")) - 1\n",
    "if e == w:\n",
    "    result[e] *= 2\n",
    "    result[(e+1)%4] -= score[e]\n",
    "    result[(e+2)%4] -= score[e]\n",
    "    result[(e+3)%4] -= score[e]\n",
    "else:\n",
    "    for i in range(4):\n",
    "        if i == w:\n",
    "            result[i] += score[i]\n",
    "        elif i == e:\n",
    "            result[i] += 3*score[i] - score[0] - score[1] - score[2] - score[3]\n",
    "        else:\n",
    "            result[i] += score[i] - score[e]\n",
    "            \n",
    "    \n",
    "for j in result:\n",
    "    print(j, end = \" \")\n",
    "\n",
    "print()\n",
    "\n",
    "for i in range(4):\n",
    "    result[i] += init[i]\n",
    "    \n",
    "for j in result:\n",
    "    print(j, end = \" \")"
   ]
  },
  {
   "cell_type": "code",
   "execution_count": null,
   "metadata": {},
   "outputs": [],
   "source": []
  }
 ],
 "metadata": {
  "kernelspec": {
   "display_name": "Python 3",
   "language": "python",
   "name": "python3"
  },
  "language_info": {
   "codemirror_mode": {
    "name": "ipython",
    "version": 3
   },
   "file_extension": ".py",
   "mimetype": "text/x-python",
   "name": "python",
   "nbconvert_exporter": "python",
   "pygments_lexer": "ipython3",
   "version": "3.7.4"
  }
 },
 "nbformat": 4,
 "nbformat_minor": 4
}
