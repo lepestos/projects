{
 "cells": [
  {
   "cell_type": "code",
   "execution_count": 1,
   "metadata": {},
   "outputs": [
    {
     "name": "stdin",
     "output_type": "stream",
     "text": [
      "First sequence:  1 2\n",
      "Second sequence:  1 3\n"
     ]
    },
    {
     "name": "stdout",
     "output_type": "stream",
     "text": [
      "1 \n"
     ]
    }
   ],
   "source": [
    "import numpy as np\n",
    "\n",
    "def LCS(a,b,T):\n",
    "    for i in range(len(a)+1):\n",
    "        for j in range(len(b)+1):\n",
    "            if i == 0 or j == 0:\n",
    "                T[i,j] = 0\n",
    "            else:\n",
    "                if a[i-1] == b[j-1]:\n",
    "                    T[i,j] = T[i-1,j-1] + 1\n",
    "                elif T[i-1,j] >= T[i,j-1]:\n",
    "                    T[i,j] = T[i-1,j]\n",
    "                else:\n",
    "                    T[i,j] = T[i,j-1]\n",
    "    return T\n",
    "\n",
    "def GetSequence(a,b,T):\n",
    "    i = len(a)\n",
    "    j = len(b)\n",
    "    s = \"\"\n",
    "    while i > 0 and j > 0:\n",
    "        if a[i-1] == b[j-1]:\n",
    "            s = a[i-1] + s\n",
    "            i -= 1\n",
    "            j -= 1\n",
    "        else:\n",
    "            if T[i-1,j] >= T[i,j-1]:\n",
    "                i -= 1\n",
    "            else:\n",
    "                j -= 1\n",
    "    return s\n",
    "    \n",
    "a = input(\"First sequence: \")\n",
    "b = input(\"Second sequence: \")\n",
    "\n",
    "la = len(a)\n",
    "lb = len(b)\n",
    "\n",
    "T = np.full((la+1,lb+1),0)\n",
    "\n",
    "T = LCS(a,b,T)\n",
    "s = GetSequence(a,b,T)\n",
    "\n",
    "print(s)\n"
   ]
  },
  {
   "cell_type": "code",
   "execution_count": null,
   "metadata": {},
   "outputs": [],
   "source": []
  }
 ],
 "metadata": {
  "kernelspec": {
   "display_name": "Python 3",
   "language": "python",
   "name": "python3"
  },
  "language_info": {
   "codemirror_mode": {
    "name": "ipython",
    "version": 3
   },
   "file_extension": ".py",
   "mimetype": "text/x-python",
   "name": "python",
   "nbconvert_exporter": "python",
   "pygments_lexer": "ipython3",
   "version": "3.7.4"
  }
 },
 "nbformat": 4,
 "nbformat_minor": 4
}
