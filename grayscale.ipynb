{
 "cells": [
  {
   "cell_type": "code",
   "execution_count": 21,
   "metadata": {},
   "outputs": [],
   "source": [
    "import numpy as np\n",
    "import pandas as pd\n",
    "import os\n",
    "from PIL import Image\n",
    "\n",
    "def label_array(row):\n",
    "    return (np.asarray(Image.open(os.path.join('images',row['image-name'])))/255).astype('float32')\n",
    "\n",
    "data = pd.read_csv(\"data.csv\")\n",
    "data['image-array'] = data.apply(lambda row: label_array(row), axis=1)\n",
    "data['label'] -= 1"
   ]
  },
  {
   "cell_type": "code",
   "execution_count": 22,
   "metadata": {},
   "outputs": [
    {
     "data": {
      "text/html": [
       "<div>\n",
       "<style scoped>\n",
       "    .dataframe tbody tr th:only-of-type {\n",
       "        vertical-align: middle;\n",
       "    }\n",
       "\n",
       "    .dataframe tbody tr th {\n",
       "        vertical-align: top;\n",
       "    }\n",
       "\n",
       "    .dataframe thead th {\n",
       "        text-align: right;\n",
       "    }\n",
       "</style>\n",
       "<table border=\"1\" class=\"dataframe\">\n",
       "  <thead>\n",
       "    <tr style=\"text-align: right;\">\n",
       "      <th></th>\n",
       "      <th>image-name</th>\n",
       "      <th>label</th>\n",
       "      <th>label-name</th>\n",
       "      <th>image-array</th>\n",
       "    </tr>\n",
       "  </thead>\n",
       "  <tbody>\n",
       "    <tr>\n",
       "      <th>0</th>\n",
       "      <td>1.jpg</td>\n",
       "      <td>37</td>\n",
       "      <td>bonus-winter</td>\n",
       "      <td>[[[0.7254902, 0.7176471, 0.65882355], [0.70196...</td>\n",
       "    </tr>\n",
       "    <tr>\n",
       "      <th>1</th>\n",
       "      <td>2.jpg</td>\n",
       "      <td>25</td>\n",
       "      <td>characters-8</td>\n",
       "      <td>[[[0.30980393, 0.18039216, 0.15294118], [0.207...</td>\n",
       "    </tr>\n",
       "    <tr>\n",
       "      <th>2</th>\n",
       "      <td>3.jpg</td>\n",
       "      <td>8</td>\n",
       "      <td>dots-9</td>\n",
       "      <td>[[[0.69411767, 0.6392157, 0.6039216], [0.72156...</td>\n",
       "    </tr>\n",
       "    <tr>\n",
       "      <th>3</th>\n",
       "      <td>4.jpg</td>\n",
       "      <td>35</td>\n",
       "      <td>bonus-summer</td>\n",
       "      <td>[[[0.32941177, 0.27450982, 0.22352941], [0.521...</td>\n",
       "    </tr>\n",
       "    <tr>\n",
       "      <th>4</th>\n",
       "      <td>5.jpg</td>\n",
       "      <td>27</td>\n",
       "      <td>honors-east</td>\n",
       "      <td>[[[0.8235294, 0.7764706, 0.72156864], [0.82352...</td>\n",
       "    </tr>\n",
       "    <tr>\n",
       "      <th>...</th>\n",
       "      <td>...</td>\n",
       "      <td>...</td>\n",
       "      <td>...</td>\n",
       "      <td>...</td>\n",
       "    </tr>\n",
       "    <tr>\n",
       "      <th>624</th>\n",
       "      <td>624.jpg</td>\n",
       "      <td>10</td>\n",
       "      <td>bamboo-2</td>\n",
       "      <td>[[[0.30980393, 0.32941177, 0.23921569], [0.298...</td>\n",
       "    </tr>\n",
       "    <tr>\n",
       "      <th>625</th>\n",
       "      <td>625.jpg</td>\n",
       "      <td>1</td>\n",
       "      <td>dots-2</td>\n",
       "      <td>[[[0.9882353, 1.0, 1.0], [0.9843137, 1.0, 1.0]...</td>\n",
       "    </tr>\n",
       "    <tr>\n",
       "      <th>626</th>\n",
       "      <td>626.jpg</td>\n",
       "      <td>18</td>\n",
       "      <td>characters-1</td>\n",
       "      <td>[[[0.94509804, 0.94509804, 0.94509804], [0.945...</td>\n",
       "    </tr>\n",
       "    <tr>\n",
       "      <th>627</th>\n",
       "      <td>627.jpg</td>\n",
       "      <td>9</td>\n",
       "      <td>bamboo-1</td>\n",
       "      <td>[[[1.0, 1.0, 0.9843137], [0.99215686, 0.996078...</td>\n",
       "    </tr>\n",
       "    <tr>\n",
       "      <th>628</th>\n",
       "      <td>628.jpg</td>\n",
       "      <td>0</td>\n",
       "      <td>dots-1</td>\n",
       "      <td>[[[0.98039216, 0.99607843, 1.0], [0.9764706, 0...</td>\n",
       "    </tr>\n",
       "  </tbody>\n",
       "</table>\n",
       "<p>629 rows × 4 columns</p>\n",
       "</div>"
      ],
      "text/plain": [
       "    image-name  label    label-name  \\\n",
       "0        1.jpg     37  bonus-winter   \n",
       "1        2.jpg     25  characters-8   \n",
       "2        3.jpg      8        dots-9   \n",
       "3        4.jpg     35  bonus-summer   \n",
       "4        5.jpg     27   honors-east   \n",
       "..         ...    ...           ...   \n",
       "624    624.jpg     10      bamboo-2   \n",
       "625    625.jpg      1        dots-2   \n",
       "626    626.jpg     18  characters-1   \n",
       "627    627.jpg      9      bamboo-1   \n",
       "628    628.jpg      0        dots-1   \n",
       "\n",
       "                                           image-array  \n",
       "0    [[[0.7254902, 0.7176471, 0.65882355], [0.70196...  \n",
       "1    [[[0.30980393, 0.18039216, 0.15294118], [0.207...  \n",
       "2    [[[0.69411767, 0.6392157, 0.6039216], [0.72156...  \n",
       "3    [[[0.32941177, 0.27450982, 0.22352941], [0.521...  \n",
       "4    [[[0.8235294, 0.7764706, 0.72156864], [0.82352...  \n",
       "..                                                 ...  \n",
       "624  [[[0.30980393, 0.32941177, 0.23921569], [0.298...  \n",
       "625  [[[0.9882353, 1.0, 1.0], [0.9843137, 1.0, 1.0]...  \n",
       "626  [[[0.94509804, 0.94509804, 0.94509804], [0.945...  \n",
       "627  [[[1.0, 1.0, 0.9843137], [0.99215686, 0.996078...  \n",
       "628  [[[0.98039216, 0.99607843, 1.0], [0.9764706, 0...  \n",
       "\n",
       "[629 rows x 4 columns]"
      ]
     },
     "execution_count": 22,
     "metadata": {},
     "output_type": "execute_result"
    }
   ],
   "source": [
    "data"
   ]
  },
  {
   "cell_type": "code",
   "execution_count": 24,
   "metadata": {},
   "outputs": [],
   "source": [
    "def rgb_to_grayscale(row):\n",
    "    return (np.sum(row['image-array'], axis = 2)/3)\n",
    "\n",
    "data['image-array-gr'] = data.apply(lambda row: rgb_to_grayscale(row), axis=1)"
   ]
  },
  {
   "cell_type": "code",
   "execution_count": 35,
   "metadata": {},
   "outputs": [
    {
     "data": {
      "text/plain": [
       "dots-1                 22\n",
       "bamboo-1               17\n",
       "bamboo-4               16\n",
       "bamboo-6               16\n",
       "bamboo-7               16\n",
       "bamboo-5               16\n",
       "dots-7                 16\n",
       "honors-north           16\n",
       "dots-5                 16\n",
       "bamboo-3               16\n",
       "honors-white           16\n",
       "characters-9           16\n",
       "bamboo-9               16\n",
       "characters-4           16\n",
       "dots-2                 16\n",
       "characters-1           16\n",
       "dots-4                 16\n",
       "characters-8           16\n",
       "honors-east            16\n",
       "characters-5           16\n",
       "bamboo-8               16\n",
       "honors-south           16\n",
       "characters-2           16\n",
       "honors-west            16\n",
       "dots-3                 16\n",
       "characters-6           16\n",
       "dots-6                 16\n",
       "characters-7           16\n",
       "characters-3           15\n",
       "bamboo-2               15\n",
       "dots-9                 15\n",
       "dots-8                 15\n",
       "honors-green           13\n",
       "honors-red             13\n",
       "bonus-winter           12\n",
       "bonus-summer           12\n",
       "bonus-autumn           12\n",
       "bonus-spring           12\n",
       "bonus-bamboo           10\n",
       "bonus-chrysanthemum    10\n",
       "bonus-orchid           10\n",
       "bonus-plum             10\n",
       "Name: label-name, dtype: int64"
      ]
     },
     "execution_count": 35,
     "metadata": {},
     "output_type": "execute_result"
    }
   ],
   "source": [
    "data['label-name'].value_counts()"
   ]
  },
  {
   "cell_type": "code",
   "execution_count": 34,
   "metadata": {},
   "outputs": [
    {
     "name": "stdout",
     "output_type": "stream",
     "text": [
      "0.4603174603174603\n",
      "[0.42261905 0.42261905 0.46107784]\n"
     ]
    }
   ],
   "source": [
    "from sklearn.neighbors import KNeighborsClassifier\n",
    "from sklearn.model_selection import train_test_split\n",
    "from sklearn.model_selection import cross_val_score\n",
    "\n",
    "train_set, test_set = train_test_split(data, test_size=0.2, random_state=42)\n",
    "\n",
    "\n",
    "X_train = np.stack(train_set['image-array-gr'].values)\n",
    "y_train = np.stack(train_set['label'].values)\n",
    "\n",
    "\n",
    "n_clf = KNeighborsClassifier(1)\n",
    "n_clf.fit(X_train,y_train)\n",
    "\n",
    "\n",
    "X_test = np.stack(test_set['image-array-gr'].values)\n",
    "y_test = np.stack(test_set['label'].values)\n",
    "\n",
    "print(n_clf.score(X_test,y_test))\n",
    "print(cross_val_score(n_clf, X_train, y_train, cv=3, scoring=\"accuracy\"))"
   ]
  },
  {
   "cell_type": "code",
   "execution_count": 29,
   "metadata": {},
   "outputs": [
    {
     "name": "stdout",
     "output_type": "stream",
     "text": [
      "[0.45833333 0.44642857 0.47305389]\n"
     ]
    }
   ],
   "source": [
    "from sklearn.ensemble import RandomForestClassifier\n",
    "forest_clf = RandomForestClassifier()\n",
    "forest_clf.fit(X_train,y_train)\n",
    "print(cross_val_score(forest_clf, X_train, y_train, cv=3, scoring=\"accuracy\"))"
   ]
  },
  {
   "cell_type": "code",
   "execution_count": 4,
   "metadata": {},
   "outputs": [
    {
     "data": {
      "text/plain": [
       "(320, 240)"
      ]
     },
     "execution_count": 4,
     "metadata": {},
     "output_type": "execute_result"
    }
   ],
   "source": [
    "np.shape(data['image-array-gr'][0])"
   ]
  },
  {
   "cell_type": "code",
   "execution_count": 4,
   "metadata": {},
   "outputs": [],
   "source": [
    "import tensorflow as tf\n",
    "from tensorflow import keras"
   ]
  },
  {
   "cell_type": "code",
   "execution_count": 25,
   "metadata": {},
   "outputs": [
    {
     "name": "stdout",
     "output_type": "stream",
     "text": [
      "Epoch 1/100\n",
      "11/11 [==============================] - 1s 55ms/step - loss: 57.3943 - accuracy: 0.0420 - val_loss: 80.8989 - val_accuracy: 0.0392\n",
      "Epoch 2/100\n",
      "11/11 [==============================] - 0s 33ms/step - loss: 154.9059 - accuracy: 0.0265 - val_loss: 158.4506 - val_accuracy: 0.0784\n",
      "Epoch 3/100\n",
      "11/11 [==============================] - 0s 18ms/step - loss: 194.1074 - accuracy: 0.0332 - val_loss: 196.5201 - val_accuracy: 0.0392\n",
      "Epoch 4/100\n",
      "11/11 [==============================] - 0s 19ms/step - loss: 205.3399 - accuracy: 0.0465 - val_loss: 196.2606 - val_accuracy: 0.0588\n",
      "Epoch 5/100\n",
      "11/11 [==============================] - 0s 21ms/step - loss: 167.1634 - accuracy: 0.0509 - val_loss: 173.2176 - val_accuracy: 0.0392\n",
      "Epoch 6/100\n",
      "11/11 [==============================] - 0s 18ms/step - loss: 141.7713 - accuracy: 0.0531 - val_loss: 125.0221 - val_accuracy: 0.0784\n",
      "Epoch 7/100\n",
      "11/11 [==============================] - 0s 18ms/step - loss: 123.6527 - accuracy: 0.0686 - val_loss: 160.0690 - val_accuracy: 0.0588\n",
      "Epoch 8/100\n",
      "11/11 [==============================] - 0s 23ms/step - loss: 103.4598 - accuracy: 0.0929 - val_loss: 114.2685 - val_accuracy: 0.0784\n",
      "Epoch 9/100\n",
      "11/11 [==============================] - 0s 17ms/step - loss: 106.9462 - accuracy: 0.1438 - val_loss: 106.2201 - val_accuracy: 0.1569\n",
      "Epoch 10/100\n",
      "11/11 [==============================] - 0s 20ms/step - loss: 93.5468 - accuracy: 0.1173 - val_loss: 108.8160 - val_accuracy: 0.0392\n",
      "Epoch 11/100\n",
      "11/11 [==============================] - 0s 18ms/step - loss: 97.2082 - accuracy: 0.1726 - val_loss: 128.3940 - val_accuracy: 0.0392\n",
      "Epoch 12/100\n",
      "11/11 [==============================] - 0s 20ms/step - loss: 85.6622 - accuracy: 0.2124 - val_loss: 89.9403 - val_accuracy: 0.0784\n",
      "Epoch 13/100\n",
      "11/11 [==============================] - 0s 18ms/step - loss: 61.4172 - accuracy: 0.2743 - val_loss: 71.3338 - val_accuracy: 0.1765\n",
      "Epoch 14/100\n",
      "11/11 [==============================] - 0s 18ms/step - loss: 46.6144 - accuracy: 0.2544 - val_loss: 90.0068 - val_accuracy: 0.1176\n",
      "Epoch 15/100\n",
      "11/11 [==============================] - 0s 18ms/step - loss: 53.8344 - accuracy: 0.2721 - val_loss: 74.2695 - val_accuracy: 0.1961\n",
      "Epoch 16/100\n",
      "11/11 [==============================] - 0s 19ms/step - loss: 56.3595 - accuracy: 0.2677 - val_loss: 37.1675 - val_accuracy: 0.2941\n",
      "Epoch 17/100\n",
      "11/11 [==============================] - 0s 20ms/step - loss: 28.7665 - accuracy: 0.3850 - val_loss: 37.8103 - val_accuracy: 0.3137\n",
      "Epoch 18/100\n",
      "11/11 [==============================] - 0s 17ms/step - loss: 32.6716 - accuracy: 0.3739 - val_loss: 42.8303 - val_accuracy: 0.1176\n",
      "Epoch 19/100\n",
      "11/11 [==============================] - 0s 17ms/step - loss: 44.2472 - accuracy: 0.4071 - val_loss: 32.6428 - val_accuracy: 0.2353\n",
      "Epoch 20/100\n",
      "11/11 [==============================] - 0s 17ms/step - loss: 28.8071 - accuracy: 0.4358 - val_loss: 36.6618 - val_accuracy: 0.2941\n",
      "Epoch 21/100\n",
      "11/11 [==============================] - 0s 16ms/step - loss: 33.0516 - accuracy: 0.3960 - val_loss: 20.2317 - val_accuracy: 0.4314\n",
      "Epoch 22/100\n",
      "11/11 [==============================] - 0s 18ms/step - loss: 21.7904 - accuracy: 0.4358 - val_loss: 36.2542 - val_accuracy: 0.2353\n",
      "Epoch 23/100\n",
      "11/11 [==============================] - 0s 16ms/step - loss: 20.0680 - accuracy: 0.5376 - val_loss: 29.7827 - val_accuracy: 0.3529\n",
      "Epoch 24/100\n",
      "11/11 [==============================] - 0s 20ms/step - loss: 24.3276 - accuracy: 0.4425 - val_loss: 28.9373 - val_accuracy: 0.4510\n",
      "Epoch 25/100\n",
      "11/11 [==============================] - 0s 18ms/step - loss: 26.3646 - accuracy: 0.5376 - val_loss: 12.7916 - val_accuracy: 0.4706\n",
      "Epoch 26/100\n",
      "11/11 [==============================] - 0s 20ms/step - loss: 16.0819 - accuracy: 0.5332 - val_loss: 30.1035 - val_accuracy: 0.3725\n",
      "Epoch 27/100\n",
      "11/11 [==============================] - 0s 19ms/step - loss: 23.8136 - accuracy: 0.5509 - val_loss: 14.3988 - val_accuracy: 0.3529\n",
      "Epoch 28/100\n",
      "11/11 [==============================] - 0s 18ms/step - loss: 6.7014 - accuracy: 0.7323 - val_loss: 9.9084 - val_accuracy: 0.3922\n",
      "Epoch 29/100\n",
      "11/11 [==============================] - 0s 16ms/step - loss: 13.6166 - accuracy: 0.5664 - val_loss: 14.3249 - val_accuracy: 0.5098\n",
      "Epoch 30/100\n",
      "11/11 [==============================] - 0s 16ms/step - loss: 9.6887 - accuracy: 0.7013 - val_loss: 9.5175 - val_accuracy: 0.5294\n",
      "Epoch 31/100\n",
      "11/11 [==============================] - 0s 19ms/step - loss: 3.9650 - accuracy: 0.7765 - val_loss: 8.2647 - val_accuracy: 0.5490\n",
      "Epoch 32/100\n",
      "11/11 [==============================] - 0s 17ms/step - loss: 4.8510 - accuracy: 0.7810 - val_loss: 7.4718 - val_accuracy: 0.5490\n",
      "Epoch 33/100\n",
      "11/11 [==============================] - 0s 17ms/step - loss: 2.3717 - accuracy: 0.8451 - val_loss: 3.4646 - val_accuracy: 0.5490\n",
      "Epoch 34/100\n",
      "11/11 [==============================] - 0s 18ms/step - loss: 6.0494 - accuracy: 0.7788 - val_loss: 8.4768 - val_accuracy: 0.5490\n",
      "Epoch 35/100\n",
      "11/11 [==============================] - 0s 22ms/step - loss: 2.4883 - accuracy: 0.8451 - val_loss: 5.4954 - val_accuracy: 0.5686\n",
      "Epoch 36/100\n",
      "11/11 [==============================] - 0s 16ms/step - loss: 4.5777 - accuracy: 0.7765 - val_loss: 12.6437 - val_accuracy: 0.5098\n",
      "Epoch 37/100\n",
      "11/11 [==============================] - 0s 17ms/step - loss: 3.0701 - accuracy: 0.8518 - val_loss: 11.9179 - val_accuracy: 0.4118\n",
      "Epoch 38/100\n",
      "11/11 [==============================] - 0s 20ms/step - loss: 4.0780 - accuracy: 0.8562 - val_loss: 3.5424 - val_accuracy: 0.6275\n",
      "Epoch 39/100\n",
      "11/11 [==============================] - 0s 18ms/step - loss: 1.0623 - accuracy: 0.8872 - val_loss: 7.2252 - val_accuracy: 0.5098\n",
      "Epoch 40/100\n",
      "11/11 [==============================] - 0s 18ms/step - loss: 1.8554 - accuracy: 0.8739 - val_loss: 3.6043 - val_accuracy: 0.6667\n",
      "Epoch 41/100\n",
      "11/11 [==============================] - 0s 18ms/step - loss: 2.3041 - accuracy: 0.8872 - val_loss: 3.6633 - val_accuracy: 0.6471\n",
      "Epoch 42/100\n",
      "11/11 [==============================] - 0s 17ms/step - loss: 2.0256 - accuracy: 0.8673 - val_loss: 11.4251 - val_accuracy: 0.4510\n",
      "Epoch 43/100\n",
      "11/11 [==============================] - 0s 17ms/step - loss: 3.1367 - accuracy: 0.8119 - val_loss: 2.8114 - val_accuracy: 0.6078\n",
      "Epoch 44/100\n",
      "11/11 [==============================] - 0s 17ms/step - loss: 2.2593 - accuracy: 0.8606 - val_loss: 8.2227 - val_accuracy: 0.5098\n",
      "Epoch 45/100\n",
      "11/11 [==============================] - 0s 15ms/step - loss: 8.6583 - accuracy: 0.6748 - val_loss: 8.0640 - val_accuracy: 0.4902\n",
      "Epoch 46/100\n",
      "11/11 [==============================] - 0s 17ms/step - loss: 9.1217 - accuracy: 0.7500 - val_loss: 15.8760 - val_accuracy: 0.5490\n",
      "Epoch 47/100\n",
      "11/11 [==============================] - 0s 17ms/step - loss: 2.5310 - accuracy: 0.8606 - val_loss: 3.9031 - val_accuracy: 0.6275\n",
      "Epoch 48/100\n",
      "11/11 [==============================] - 0s 16ms/step - loss: 1.3054 - accuracy: 0.8894 - val_loss: 9.4361 - val_accuracy: 0.4510\n",
      "Epoch 49/100\n",
      "11/11 [==============================] - 0s 17ms/step - loss: 0.9567 - accuracy: 0.9027 - val_loss: 5.8544 - val_accuracy: 0.6471\n",
      "Epoch 50/100\n",
      "11/11 [==============================] - 0s 16ms/step - loss: 0.5796 - accuracy: 0.9115 - val_loss: 8.1442 - val_accuracy: 0.5098\n",
      "Epoch 51/100\n",
      "11/11 [==============================] - 0s 16ms/step - loss: 1.9941 - accuracy: 0.8960 - val_loss: 2.1237 - val_accuracy: 0.6471\n",
      "Epoch 52/100\n",
      "11/11 [==============================] - 0s 17ms/step - loss: 0.2021 - accuracy: 0.9646 - val_loss: 2.3692 - val_accuracy: 0.6863\n",
      "Epoch 53/100\n",
      "11/11 [==============================] - 0s 17ms/step - loss: 0.2308 - accuracy: 0.9602 - val_loss: 5.9300 - val_accuracy: 0.5882\n",
      "Epoch 54/100\n",
      "11/11 [==============================] - 0s 21ms/step - loss: 1.2632 - accuracy: 0.9004 - val_loss: 3.5352 - val_accuracy: 0.6078\n",
      "Epoch 55/100\n",
      "11/11 [==============================] - 0s 17ms/step - loss: 0.3817 - accuracy: 0.9558 - val_loss: 1.8126 - val_accuracy: 0.6667\n",
      "Epoch 56/100\n",
      "11/11 [==============================] - 0s 20ms/step - loss: 1.1944 - accuracy: 0.9004 - val_loss: 5.4387 - val_accuracy: 0.5882\n",
      "Epoch 57/100\n",
      "11/11 [==============================] - 0s 18ms/step - loss: 0.8982 - accuracy: 0.9093 - val_loss: 2.4138 - val_accuracy: 0.6275\n",
      "Epoch 58/100\n",
      "11/11 [==============================] - 0s 19ms/step - loss: 0.7651 - accuracy: 0.9270 - val_loss: 5.1990 - val_accuracy: 0.6078\n",
      "Epoch 59/100\n",
      "11/11 [==============================] - 0s 20ms/step - loss: 0.8460 - accuracy: 0.9292 - val_loss: 2.4526 - val_accuracy: 0.6078\n",
      "Epoch 60/100\n",
      "11/11 [==============================] - 0s 19ms/step - loss: 0.5881 - accuracy: 0.9270 - val_loss: 4.7546 - val_accuracy: 0.5686\n",
      "Epoch 61/100\n",
      "11/11 [==============================] - 0s 19ms/step - loss: 0.8932 - accuracy: 0.9403 - val_loss: 1.8040 - val_accuracy: 0.6863\n",
      "Epoch 62/100\n",
      "11/11 [==============================] - 0s 22ms/step - loss: 0.0253 - accuracy: 0.9978 - val_loss: 1.7993 - val_accuracy: 0.7059\n",
      "Epoch 63/100\n",
      "11/11 [==============================] - 0s 20ms/step - loss: 0.0289 - accuracy: 0.9956 - val_loss: 1.7499 - val_accuracy: 0.7059\n",
      "Epoch 64/100\n",
      "11/11 [==============================] - 0s 20ms/step - loss: 0.0339 - accuracy: 0.9912 - val_loss: 1.8746 - val_accuracy: 0.6863\n",
      "Epoch 65/100\n",
      "11/11 [==============================] - 0s 21ms/step - loss: 0.1125 - accuracy: 0.9801 - val_loss: 4.3828 - val_accuracy: 0.6471\n",
      "Epoch 66/100\n",
      "11/11 [==============================] - 0s 21ms/step - loss: 0.5314 - accuracy: 0.9447 - val_loss: 2.6337 - val_accuracy: 0.6667\n",
      "Epoch 67/100\n",
      "11/11 [==============================] - 0s 21ms/step - loss: 0.4391 - accuracy: 0.9535 - val_loss: 2.4643 - val_accuracy: 0.6275\n",
      "Epoch 68/100\n",
      "11/11 [==============================] - 0s 18ms/step - loss: 0.3937 - accuracy: 0.9602 - val_loss: 1.8565 - val_accuracy: 0.6863\n",
      "Epoch 69/100\n",
      "11/11 [==============================] - 0s 19ms/step - loss: 0.0581 - accuracy: 0.9845 - val_loss: 2.1508 - val_accuracy: 0.6863\n",
      "Epoch 70/100\n",
      "11/11 [==============================] - 0s 18ms/step - loss: 0.0527 - accuracy: 0.9934 - val_loss: 1.9619 - val_accuracy: 0.6667\n",
      "Epoch 71/100\n",
      "11/11 [==============================] - 0s 18ms/step - loss: 0.0398 - accuracy: 0.9934 - val_loss: 1.6931 - val_accuracy: 0.7059\n",
      "Epoch 72/100\n",
      "11/11 [==============================] - 0s 17ms/step - loss: 0.0239 - accuracy: 0.9934 - val_loss: 1.7707 - val_accuracy: 0.6863\n",
      "Epoch 73/100\n",
      "11/11 [==============================] - 0s 18ms/step - loss: 0.0834 - accuracy: 0.9889 - val_loss: 1.7076 - val_accuracy: 0.6863\n",
      "Epoch 74/100\n",
      "11/11 [==============================] - 0s 20ms/step - loss: 0.0446 - accuracy: 0.9912 - val_loss: 1.6373 - val_accuracy: 0.7451\n",
      "Epoch 75/100\n",
      "11/11 [==============================] - 0s 19ms/step - loss: 0.0273 - accuracy: 0.9956 - val_loss: 1.6136 - val_accuracy: 0.7059\n",
      "Epoch 76/100\n",
      "11/11 [==============================] - 0s 18ms/step - loss: 0.0522 - accuracy: 0.9934 - val_loss: 1.5845 - val_accuracy: 0.7059\n",
      "Epoch 77/100\n",
      "11/11 [==============================] - 0s 19ms/step - loss: 0.0050 - accuracy: 0.9978 - val_loss: 1.7595 - val_accuracy: 0.7059\n",
      "Epoch 78/100\n",
      "11/11 [==============================] - 0s 18ms/step - loss: 0.1278 - accuracy: 0.9668 - val_loss: 11.2353 - val_accuracy: 0.4118\n",
      "Epoch 79/100\n",
      "11/11 [==============================] - 0s 21ms/step - loss: 7.9303 - accuracy: 0.7345 - val_loss: 3.6074 - val_accuracy: 0.6667\n",
      "Epoch 80/100\n",
      "11/11 [==============================] - 0s 18ms/step - loss: 0.9980 - accuracy: 0.9071 - val_loss: 2.2478 - val_accuracy: 0.6471\n",
      "Epoch 81/100\n",
      "11/11 [==============================] - 0s 17ms/step - loss: 0.0244 - accuracy: 0.9912 - val_loss: 1.9461 - val_accuracy: 0.6863\n",
      "Epoch 82/100\n",
      "11/11 [==============================] - 0s 18ms/step - loss: 0.0252 - accuracy: 0.9934 - val_loss: 1.8082 - val_accuracy: 0.7255\n",
      "Epoch 83/100\n",
      "11/11 [==============================] - 0s 18ms/step - loss: 0.0031 - accuracy: 1.0000 - val_loss: 1.7854 - val_accuracy: 0.7059\n",
      "Epoch 84/100\n",
      "11/11 [==============================] - 0s 19ms/step - loss: 0.0025 - accuracy: 1.0000 - val_loss: 1.8307 - val_accuracy: 0.6863\n",
      "Epoch 85/100\n",
      "11/11 [==============================] - 0s 20ms/step - loss: 0.0522 - accuracy: 0.9823 - val_loss: 1.7903 - val_accuracy: 0.7451\n",
      "Epoch 86/100\n",
      "11/11 [==============================] - 0s 20ms/step - loss: 0.0014 - accuracy: 1.0000 - val_loss: 1.7671 - val_accuracy: 0.7255\n",
      "Epoch 87/100\n",
      "11/11 [==============================] - 0s 18ms/step - loss: 0.0012 - accuracy: 1.0000 - val_loss: 1.7575 - val_accuracy: 0.7255\n",
      "Epoch 88/100\n",
      "11/11 [==============================] - 0s 18ms/step - loss: 0.0010 - accuracy: 1.0000 - val_loss: 1.7596 - val_accuracy: 0.7255\n",
      "Epoch 89/100\n",
      "11/11 [==============================] - 0s 17ms/step - loss: 0.0011 - accuracy: 1.0000 - val_loss: 1.7547 - val_accuracy: 0.7255\n",
      "Epoch 90/100\n",
      "11/11 [==============================] - 0s 16ms/step - loss: 9.4098e-04 - accuracy: 1.0000 - val_loss: 1.7443 - val_accuracy: 0.7255\n",
      "Epoch 91/100\n",
      "11/11 [==============================] - 0s 19ms/step - loss: 8.8201e-04 - accuracy: 1.0000 - val_loss: 1.7481 - val_accuracy: 0.7255\n",
      "Epoch 92/100\n",
      "11/11 [==============================] - 0s 20ms/step - loss: 8.8028e-04 - accuracy: 1.0000 - val_loss: 1.7437 - val_accuracy: 0.7255\n",
      "Epoch 93/100\n",
      "11/11 [==============================] - 0s 17ms/step - loss: 8.0560e-04 - accuracy: 1.0000 - val_loss: 1.7362 - val_accuracy: 0.7255\n",
      "Epoch 94/100\n",
      "11/11 [==============================] - 0s 18ms/step - loss: 6.6358e-04 - accuracy: 1.0000 - val_loss: 1.7386 - val_accuracy: 0.7255\n",
      "Epoch 95/100\n",
      "11/11 [==============================] - 0s 17ms/step - loss: 8.1336e-04 - accuracy: 1.0000 - val_loss: 1.7377 - val_accuracy: 0.7255\n",
      "Epoch 96/100\n",
      "11/11 [==============================] - 0s 20ms/step - loss: 6.7068e-04 - accuracy: 1.0000 - val_loss: 1.7311 - val_accuracy: 0.7255\n",
      "Epoch 97/100\n",
      "11/11 [==============================] - 0s 20ms/step - loss: 6.4042e-04 - accuracy: 1.0000 - val_loss: 1.7347 - val_accuracy: 0.7255\n",
      "Epoch 98/100\n",
      "11/11 [==============================] - 0s 19ms/step - loss: 6.8548e-04 - accuracy: 1.0000 - val_loss: 1.7323 - val_accuracy: 0.7255\n",
      "Epoch 99/100\n",
      "11/11 [==============================] - 0s 20ms/step - loss: 6.6513e-04 - accuracy: 1.0000 - val_loss: 1.7335 - val_accuracy: 0.7255\n",
      "Epoch 100/100\n",
      "11/11 [==============================] - 0s 20ms/step - loss: 6.8445e-04 - accuracy: 1.0000 - val_loss: 1.7255 - val_accuracy: 0.7451\n"
     ]
    }
   ],
   "source": [
    "from sklearn.model_selection import train_test_split\n",
    "model = keras.models.Sequential()\n",
    "\n",
    "train_set, test_set = train_test_split(data, test_size=0.2, random_state=42)\n",
    "\n",
    "X_train = np.stack(train_set['image-array-gr'].values)\n",
    "y_train = np.stack(train_set['label'].values)\n",
    "\n",
    "\n",
    "\n",
    "model.add(keras.layers.Flatten(input_shape=[320, 240]))\n",
    "#model.add(keras.layers.Dense(20, activation=\"relu\"))\n",
    "#model.add(keras.layers.Dense(50, activation=\"relu\"))\n",
    "model.add(keras.layers.Dense(42, activation=\"softmax\"))\n",
    "model.compile(loss=\"sparse_categorical_crossentropy\",\n",
    "    optimizer=\"sgd\",\n",
    "    metrics=[\"accuracy\"])\n",
    "\n",
    "\n",
    "\n",
    "history = model.fit(X_train, y_train, epochs=100,validation_split = 0.1,batch_size=42)"
   ]
  },
  {
   "cell_type": "code",
   "execution_count": 42,
   "metadata": {},
   "outputs": [
    {
     "data": {
      "image/png": "[encoded data removed]",
      "text/plain": [
       "<Figure size 576x360 with 1 Axes>"
      ]
     },
     "metadata": {
      "needs_background": "light"
     },
     "output_type": "display_data"
    }
   ],
   "source": [
    "import matplotlib.pyplot as plt\n",
    "pd.DataFrame(history.history).plot(figsize=(8, 5))\n",
    "plt.grid(True)\n",
    "plt.gca().set_ylim(0, 1) # set the vertical range to [0-1]\n",
    "plt.show()\n",
    "\n"
   ]
  },
  {
   "cell_type": "code",
   "execution_count": 33,
   "metadata": {},
   "outputs": [
    {
     "data": {
      "text/plain": [
       "(629, 320, 240)"
      ]
     },
     "execution_count": 33,
     "metadata": {},
     "output_type": "execute_result"
    }
   ],
   "source": [
    "np.shape(X_train)"
   ]
  },
  {
   "cell_type": "code",
   "execution_count": 7,
   "metadata": {},
   "outputs": [
    {
     "name": "stdout",
     "output_type": "stream",
     "text": [
      "4/4 [==============================] - 0s 18ms/step - loss: 3.0029 - accuracy: 0.6746\n"
     ]
    },
    {
     "data": {
      "text/plain": [
       "[3.0029196739196777, 0.6746031641960144]"
      ]
     },
     "execution_count": 7,
     "metadata": {},
     "output_type": "execute_result"
    }
   ],
   "source": [
    "X_test = np.stack(test_set['image-array-gr'].values)\n",
    "y_test = np.stack(test_set['label'].values)\n",
    "\n",
    "model.evaluate(X_test, y_test)"
   ]
  },
  {
   "cell_type": "code",
   "execution_count": 34,
   "metadata": {},
   "outputs": [
    {
     "data": {
      "text/plain": [
       "array([[1.48539459e-09, 6.35928312e-20, 2.36673259e-09, 8.60770797e-08,\n",
       "        5.90837444e-04, 7.78214908e-14, 2.02051220e-09, 5.07956455e-10,\n",
       "        1.78397002e-07, 9.03962629e-08, 2.75833131e-29, 2.29765507e-13,\n",
       "        1.54053909e-04, 9.99088526e-01, 2.64704028e-07, 1.29517022e-11,\n",
       "        5.04220623e-07, 1.23848149e-04, 9.58235697e-19, 1.24263585e-16,\n",
       "        5.44579849e-20, 6.51210397e-19, 4.01981731e-20, 3.00507549e-24,\n",
       "        4.56685186e-25, 1.40195549e-14, 2.60988424e-20, 1.67053820e-14,\n",
       "        1.55710389e-14, 6.18888404e-13, 1.30671545e-08, 3.76232924e-16,\n",
       "        1.90838217e-14, 9.46512137e-06, 9.75775016e-09, 3.52193209e-12,\n",
       "        5.40443579e-10, 5.24487676e-10, 3.10768411e-09, 4.52746152e-09,\n",
       "        3.97580095e-07, 3.19051433e-05]], dtype=float32)"
      ]
     },
     "execution_count": 34,
     "metadata": {},
     "output_type": "execute_result"
    }
   ],
   "source": [
    "im = (np.asarray(Image.open('37.jpg'))/255).astype('float32')\n",
    "im = np.sum(im,axis=2)/3\n",
    "#np.shape(im)\n",
    "model.predict(np.array([im]))\n",
    "#model.predict_classes(np.array([im]))\n",
    "#print(np.shape(im))\n",
    "#data['image-array-gr'][0]"
   ]
  },
  {
   "cell_type": "code",
   "execution_count": null,
   "metadata": {},
   "outputs": [],
   "source": []
  }
 ],
 "metadata": {
  "kernelspec": {
   "display_name": "Python 3",
   "language": "python",
   "name": "python3"
  },
  "language_info": {
   "codemirror_mode": {
    "name": "ipython",
    "version": 3
   },
   "file_extension": ".py",
   "mimetype": "text/x-python",
   "name": "python",
   "nbconvert_exporter": "python",
   "pygments_lexer": "ipython3",
   "version": "3.7.4"
  }
 },
 "nbformat": 4,
 "nbformat_minor": 4
}
